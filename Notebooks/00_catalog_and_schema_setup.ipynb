{
 "cells": [
  {
   "cell_type": "code",
   "execution_count": 0,
   "metadata": {
    "application/vnd.databricks.v1+cell": {
     "cellMetadata": {
      "byteLimit": 2048000,
      "rowLimit": 10000
     },
     "inputWidgets": {},
     "nuid": "c097ac38-45ae-4112-85fc-90d2a9f0ac07",
     "showTitle": false,
     "tableResultSettingsMap": {},
     "title": ""
    }
   },
   "outputs": [],
   "source": [
    "# Databricks Widgets Setup\n",
    "dbutils.widgets.combobox(\"Environment\", \"\", [\"dev\", \"prod\"])\n",
    "dbutils.widgets.text(\"CatalogName\", \"_nyctaxi_catalog\")\n",
    "dbutils.widgets.combobox(\"SchemaName\", \"\",[\"bronze\", \"silver\", \"gold\"])\n",
    "dbutils.widgets.text(\"Table_name\",\"bronze_nyc_taxi\")\n",
    "dbutils.widgets.combobox(\"StoragePath\", \"\",[\"landing_path\",\"bronze_path\", \"silver_path\", \"gold_path\"])\n",
    "\n",
    "# Get widget values\n",
    "Environment = dbutils.widgets.get(\"Environment\")\n",
    "catalog_name = dbutils.widgets.get(\"CatalogName\")\n",
    "schema_name = dbutils.widgets.get(\"SchemaName\")\n",
    "table_name = dbutils.widgets.get(\"Table_name\")\n",
    "storage_path = dbutils.widgets.get(\"StoragePath\")\n"
   ]
  },
  {
   "cell_type": "code",
   "execution_count": 0,
   "metadata": {
    "application/vnd.databricks.v1+cell": {
     "cellMetadata": {
      "byteLimit": 2048000,
      "rowLimit": 10000
     },
     "inputWidgets": {},
     "nuid": "50a5d0fa-8f31-4ddf-95fa-f8e586ad78ee",
     "showTitle": false,
     "tableResultSettingsMap": {},
     "title": ""
    }
   },
   "outputs": [],
   "source": [
    "#dbutils.widgets.removeAll()"
   ]
  },
  {
   "cell_type": "code",
   "execution_count": 0,
   "metadata": {
    "application/vnd.databricks.v1+cell": {
     "cellMetadata": {
      "byteLimit": 2048000,
      "rowLimit": 10000
     },
     "inputWidgets": {},
     "nuid": "2fdaf1cf-88dd-4065-9911-82cdd1268f3b",
     "showTitle": false,
     "tableResultSettingsMap": {},
     "title": ""
    }
   },
   "outputs": [],
   "source": [
    "landing_path = spark.sql(\"\"\"DESCRIBE EXTERNAL LOCATION landingzone_external_location\"\"\").select(\"url\").collect()[0][0]\n",
    "bronze_path = spark.sql(\"\"\"DESCRIBE EXTERNAL LOCATION bronze_external_location\"\"\").select(\"url\").collect()[0][0]\n",
    "silver_path = spark.sql(\"\"\"DESCRIBE EXTERNAL LOCATION silver_external_location\"\"\").select(\"url\").collect()[0][0]\n",
    "gold_path = spark.sql(\"\"\"DESCRIBE EXTERNAL LOCATION gold_external_location\"\"\").select(\"url\").collect()[0][0]\n",
    "\n",
    "print(bronze_path)\n",
    "print(silver_path)\n",
    "print(gold_path)\n",
    "print(landing_path)\n",
    "\n",
    "path_mapping = {\n",
    "        \"landing_path\": landing_path,\n",
    "        \"bronze_path\": bronze_path,\n",
    "        \"silver_path\": silver_path,\n",
    "        \"gold_path\": gold_path\n",
    "    }\n",
    "resolved_path = path_mapping.get(storage_path)\n",
    "print(resolved_path)    \n",
    "if resolved_path is None:\n",
    "    raise ValueError(f\"Invalid storage_path widget value: {storage_path}\")\n"
   ]
  },
  {
   "cell_type": "code",
   "execution_count": 0,
   "metadata": {
    "application/vnd.databricks.v1+cell": {
     "cellMetadata": {
      "byteLimit": 2048000,
      "rowLimit": 10000
     },
     "inputWidgets": {},
     "nuid": "65aa5cfb-b4fd-4bfb-8880-59858e16ec06",
     "showTitle": false,
     "tableResultSettingsMap": {},
     "title": ""
    }
   },
   "outputs": [],
   "source": [
    "def create_catalog(Environment, catalog_name):\n",
    "    try:\n",
    "        full_catalog_name = f\"{Environment}{catalog_name}\"\n",
    "        spark.sql(f\"CREATE CATALOG IF NOT EXISTS {full_catalog_name}\")\n",
    "        print(f\"Catalog {full_catalog_name} is created successfully.\")\n",
    "    except Exception as e:\n",
    "        print(f\"Catalog {full_catalog_name} is not created. {e}\")\n",
    "           "
   ]
  },
  {
   "cell_type": "code",
   "execution_count": 0,
   "metadata": {
    "application/vnd.databricks.v1+cell": {
     "cellMetadata": {
      "byteLimit": 2048000,
      "rowLimit": 10000
     },
     "inputWidgets": {},
     "nuid": "6c623f43-28a8-4ef4-95de-219b56827599",
     "showTitle": false,
     "tableResultSettingsMap": {},
     "title": ""
    }
   },
   "outputs": [],
   "source": [
    "def create_schema(Environment, catalog_name, schema_name, storage_path):\n",
    "    full_catalog_name = f\"{Environment}{catalog_name}\"\n",
    "    try:\n",
    "        spark.sql(f\"USE CATALOG {full_catalog_name}\")\n",
    "        spark.sql(f\"CREATE SCHEMA IF NOT EXISTS `{schema_name}` MANAGED LOCATION '{resolved_path}/{schema_name}_files'\")\n",
    "        print(f\"Schema {schema_name} is created successfully.\")\n",
    "    except Exception as e:\n",
    "        print(f\"Schema {schema_name} is not created. {e}\")\n",
    "\n"
   ]
  },
  {
   "cell_type": "code",
   "execution_count": 0,
   "metadata": {
    "application/vnd.databricks.v1+cell": {
     "cellMetadata": {
      "byteLimit": 2048000,
      "rowLimit": 10000
     },
     "inputWidgets": {},
     "nuid": "76e6626f-7a8b-4d48-ae8f-f7bce1b1e09a",
     "showTitle": false,
     "tableResultSettingsMap": {},
     "title": ""
    }
   },
   "outputs": [],
   "source": [
    "def bronze_create_table(Environment, catalog_name, schema_name, table_name):\n",
    "    full_table_path = f\"{Environment}{catalog_name}.{schema_name}.{table_name}\"\n",
    "      \n",
    "    print(f\"Starting to create table: {table_name}\")\n",
    "    print(f\"Full path: {full_table_path}\")\n",
    "\n",
    "    create_query = f\"\"\"\n",
    "    CREATE TABLE IF NOT EXISTS {full_table_path} (\n",
    "        VendorID INT,\n",
    "        tpep_pickup_datetime TIMESTAMP,\n",
    "        tpep_dropoff_datetime TIMESTAMP,\n",
    "        passenger_count BIGINT,\n",
    "        trip_distance DOUBLE,\n",
    "        RatecodeID BIGINT,\n",
    "        store_and_fwd_flag STRING,\n",
    "        PULocationID INT,\n",
    "        DOLocationID INT,\n",
    "        payment_type BIGINT,\n",
    "        fare_amount DOUBLE,\n",
    "        extra DOUBLE,\n",
    "        mta_tax DOUBLE,\n",
    "        tip_amount DOUBLE,\n",
    "        tolls_amount DOUBLE,\n",
    "        improvement_surcharge DOUBLE,\n",
    "        total_amount DOUBLE,\n",
    "        congestion_surcharge DOUBLE,\n",
    "        Airport_fee DOUBLE\n",
    "    )\n",
    "    \"\"\"\n",
    "    spark.sql(create_query)\n",
    "    print(f\"Table created (if not exists): {full_table_path}\")\n",
    "bronze_create_table(Environment, catalog_name, schema_name, table_name)"
   ]
  },
  {
   "cell_type": "code",
   "execution_count": 0,
   "metadata": {
    "application/vnd.databricks.v1+cell": {
     "cellMetadata": {
      "byteLimit": 2048000,
      "rowLimit": 10000
     },
     "inputWidgets": {},
     "nuid": "454c6edb-1b6e-4687-8898-2f7c0629912f",
     "showTitle": false,
     "tableResultSettingsMap": {},
     "title": ""
    }
   },
   "outputs": [],
   "source": [
    "create_catalog(Environment, catalog_name)\n",
    "create_schema(Environment, catalog_name, schema_name, storage_path)\n",
    "bronze_create_table(Environment, catalog_name, schema_name, table_name)"
   ]
  }
 ],
 "metadata": {
  "application/vnd.databricks.v1+notebook": {
   "computePreferences": null,
   "dashboards": [],
   "environmentMetadata": {
    "base_environment": "",
    "environment_version": "2"
   },
   "inputWidgetPreferences": null,
   "language": "python",
   "notebookMetadata": {
    "pythonIndentUnit": 4
   },
   "notebookName": "00_catalog_and_schema_setup",
   "widgets": {
    "CatalogName": {
     "currentValue": "_nyctaxi_catalog",
     "nuid": "725e7d12-d74b-410c-9109-466401104aaf",
     "typedWidgetInfo": {
      "autoCreated": false,
      "defaultValue": "_nyctaxi_catalog",
      "label": null,
      "name": "CatalogName",
      "options": {
       "widgetDisplayType": "Text",
       "validationRegex": null
      },
      "parameterDataType": "String"
     },
     "widgetInfo": {
      "widgetType": "text",
      "defaultValue": "_nyctaxi_catalog",
      "label": null,
      "name": "CatalogName",
      "options": {
       "widgetType": "text",
       "autoCreated": null,
       "validationRegex": null
      }
     }
    },
    "Environment": {
     "currentValue": "dev",
     "nuid": "ee2f6f1a-22db-46fd-9d0c-ae784fab4bf5",
     "typedWidgetInfo": {
      "autoCreated": false,
      "defaultValue": "",
      "label": null,
      "name": "Environment",
      "options": {
       "widgetDisplayType": "Dropdown",
       "choices": [
        "dev",
        "prod"
       ],
       "fixedDomain": false,
       "multiselect": false
      },
      "parameterDataType": "String"
     },
     "widgetInfo": {
      "widgetType": "combobox",
      "defaultValue": "",
      "label": null,
      "name": "Environment",
      "options": {
       "widgetType": "dropdown",
       "autoCreated": null,
       "choices": [
        "dev",
        "prod"
       ]
      }
     }
    },
    "SchemaName": {
     "currentValue": "bronze",
     "nuid": "d14aa461-e003-4db7-855c-bdcc6bb6e276",
     "typedWidgetInfo": {
      "autoCreated": false,
      "defaultValue": "",
      "label": null,
      "name": "SchemaName",
      "options": {
       "widgetDisplayType": "Dropdown",
       "choices": [
        "bronze",
        "silver",
        "gold"
       ],
       "fixedDomain": false,
       "multiselect": false
      },
      "parameterDataType": "String"
     },
     "widgetInfo": {
      "widgetType": "combobox",
      "defaultValue": "",
      "label": null,
      "name": "SchemaName",
      "options": {
       "widgetType": "dropdown",
       "autoCreated": null,
       "choices": [
        "bronze",
        "silver",
        "gold"
       ]
      }
     }
    },
    "StoragePath": {
     "currentValue": "",
     "nuid": "f706c14e-4a70-4839-b1e2-47916c3bc14a",
     "typedWidgetInfo": {
      "autoCreated": false,
      "defaultValue": "",
      "label": null,
      "name": "StoragePath",
      "options": {
       "widgetDisplayType": "Dropdown",
       "choices": [
        "landing_path",
        "bronze_path",
        "silver_path",
        "gold_path"
       ],
       "fixedDomain": false,
       "multiselect": false
      },
      "parameterDataType": "String"
     },
     "widgetInfo": {
      "widgetType": "combobox",
      "defaultValue": "",
      "label": null,
      "name": "StoragePath",
      "options": {
       "widgetType": "dropdown",
       "autoCreated": null,
       "choices": [
        "landing_path",
        "bronze_path",
        "silver_path",
        "gold_path"
       ]
      }
     }
    },
    "Table_name": {
     "currentValue": "bronze_nyc_taxi",
     "nuid": "bbaca947-d4b4-4123-ae37-93b322528701",
     "typedWidgetInfo": {
      "autoCreated": false,
      "defaultValue": "bronze_nyc_taxi",
      "label": null,
      "name": "Table_name",
      "options": {
       "widgetDisplayType": "Text",
       "validationRegex": null
      },
      "parameterDataType": "String"
     },
     "widgetInfo": {
      "widgetType": "text",
      "defaultValue": "bronze_nyc_taxi",
      "label": null,
      "name": "Table_name",
      "options": {
       "widgetType": "text",
       "autoCreated": null,
       "validationRegex": null
      }
     }
    }
   }
  },
  "language_info": {
   "name": "python"
  }
 },
 "nbformat": 4,
 "nbformat_minor": 0
}
