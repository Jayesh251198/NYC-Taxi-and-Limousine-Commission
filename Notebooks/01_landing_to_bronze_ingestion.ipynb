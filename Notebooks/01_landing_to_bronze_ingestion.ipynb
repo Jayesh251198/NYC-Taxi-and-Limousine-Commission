{
 "cells": [
  {
   "cell_type": "code",
   "execution_count": 0,
   "metadata": {
    "application/vnd.databricks.v1+cell": {
     "cellMetadata": {
      "byteLimit": 2048000,
      "rowLimit": 10000
     },
     "inputWidgets": {},
     "nuid": "f04bd2e0-d2a2-4314-ad12-cf09b8642150",
     "showTitle": false,
     "tableResultSettingsMap": {},
     "title": ""
    }
   },
   "outputs": [],
   "source": [
    "# Databricks Widgets Setup\n",
    "dbutils.widgets.combobox(\"Environment\", \"\", [\"dev\", \"prod\"])\n",
    "dbutils.widgets.text(\"CatalogName\", \"_nyctaxi_catalog\")\n",
    "dbutils.widgets.combobox(\"SchemaName\", \"\",[\"bronze\", \"silver\", \"gold\"])\n",
    "dbutils.widgets.text(\"Table_name\",\"bronze_nyc_taxi\")\n",
    "dbutils.widgets.combobox(\"StoragePath\", \"\",[\"landing_path\",\"bronze_path\", \"silver_path\", \"gold_path\"])\n",
    "\n",
    "# Get widget values\n",
    "Environment = dbutils.widgets.get(\"Environment\")\n",
    "catalog_name = dbutils.widgets.get(\"CatalogName\")\n",
    "schema_name = dbutils.widgets.get(\"SchemaName\")\n",
    "table_name = dbutils.widgets.get(\"Table_name\")\n",
    "storage_path = dbutils.widgets.get(\"StoragePath\")\n",
    "\n"
   ]
  },
  {
   "cell_type": "code",
   "execution_count": 0,
   "metadata": {
    "application/vnd.databricks.v1+cell": {
     "cellMetadata": {
      "byteLimit": 2048000,
      "rowLimit": 10000
     },
     "inputWidgets": {},
     "nuid": "2f149cea-695d-43f8-bbbe-0c72cf9e3894",
     "showTitle": false,
     "tableResultSettingsMap": {},
     "title": ""
    }
   },
   "outputs": [],
   "source": [
    "#dbutils.widgets.removeAll()"
   ]
  },
  {
   "cell_type": "code",
   "execution_count": 0,
   "metadata": {
    "application/vnd.databricks.v1+cell": {
     "cellMetadata": {
      "byteLimit": 2048000,
      "rowLimit": 10000
     },
     "inputWidgets": {},
     "nuid": "52b84825-a78a-4fb7-a571-c65fb72768e5",
     "showTitle": false,
     "tableResultSettingsMap": {},
     "title": ""
    }
   },
   "outputs": [],
   "source": [
    "landing_path = spark.sql(\"\"\"DESCRIBE EXTERNAL LOCATION landingzone_external_location\"\"\").select(\"url\").collect()[0][0]\n",
    "bronze_path = spark.sql(\"\"\"DESCRIBE EXTERNAL LOCATION bronze_external_location\"\"\").select(\"url\").collect()[0][0]\n",
    "silver_path = spark.sql(\"\"\"DESCRIBE EXTERNAL LOCATION silver_external_location\"\"\").select(\"url\").collect()[0][0]\n",
    "gold_path = spark.sql(\"\"\"DESCRIBE EXTERNAL LOCATION gold_external_location\"\"\").select(\"url\").collect()[0][0]\n",
    "\n",
    "print(bronze_path)\n",
    "print(silver_path)\n",
    "print(gold_path)\n",
    "print(landing_path)"
   ]
  },
  {
   "cell_type": "code",
   "execution_count": 0,
   "metadata": {
    "application/vnd.databricks.v1+cell": {
     "cellMetadata": {
      "byteLimit": 2048000,
      "rowLimit": 10000
     },
     "inputWidgets": {},
     "nuid": "df630ad7-2fde-4e2a-bd3c-e90fa686fa3f",
     "showTitle": false,
     "tableResultSettingsMap": {},
     "title": ""
    }
   },
   "outputs": [],
   "source": [
    "from pyspark.sql import SparkSession\n",
    "from pyspark.sql.functions import * \n",
    "from pyspark.sql.types import *      \n",
    "\n",
    "# Create Spark session\n",
    "spark = SparkSession.builder.getOrCreate()\n",
    "print(\"Spark session created successfully\")\n",
    "\n",
    "def read_landingzone_data(landing_path):\n",
    "    # Variable to track last processed file time (initially None)\n",
    "    last_processed_file = None\n",
    "\n",
    "    # Manually define schema of the data\n",
    "    manual_schema = StructType([\n",
    "        StructField(\"VendorID\", IntegerType(), True),\n",
    "        StructField(\"tpep_pickup_datetime\", TimestampType(), True),\n",
    "        StructField(\"tpep_dropoff_datetime\", TimestampType(), True),\n",
    "        StructField(\"passenger_count\", LongType(), True),\n",
    "        StructField(\"trip_distance\", DoubleType(), True),\n",
    "        StructField(\"RatecodeID\", LongType(), True),\n",
    "        StructField(\"store_and_fwd_flag\", StringType(), True),\n",
    "        StructField(\"PULocationID\", IntegerType(), True),\n",
    "        StructField(\"DOLocationID\", IntegerType(), True),\n",
    "        StructField(\"payment_type\", LongType(), True),\n",
    "        StructField(\"fare_amount\", DoubleType(), True),\n",
    "        StructField(\"extra\", DoubleType(), True),\n",
    "        StructField(\"mta_tax\", DoubleType(), True),\n",
    "        StructField(\"tip_amount\", DoubleType(), True),\n",
    "        StructField(\"tolls_amount\", DoubleType(), True),\n",
    "        StructField(\"improvement_surcharge\", DoubleType(), True),\n",
    "        StructField(\"total_amount\", DoubleType(), True),\n",
    "        StructField(\"congestion_surcharge\", DoubleType(), True),\n",
    "        StructField(\"Airport_fee\", DoubleType(), True)\n",
    "    ])\n",
    "\n",
    "    # Read data from landing zone using schema\n",
    "    read_df = spark.read.format(\"parquet\")\\\n",
    "                        .schema(manual_schema)\\\n",
    "                        .option(\"header\", \"true\")\\\n",
    "                        .load(landing_path)\n",
    "    \n",
    "    # Add current timestamp column to data\n",
    "    add_columns = read_df.withColumn(\"ingestion_timestamp\", current_timestamp())\n",
    "\n",
    "    # Print schema of dataframe\n",
    "    print(\"Schema of data after adding ingestion_timestamp:\")\n",
    "    add_columns.printSchema()\n",
    "\n",
    "    # Check if it's the first run (no previous file processed)\n",
    "    if last_processed_file == None:\n",
    "        print(\"First time reading data. Returning full data with timestamp.\")\n",
    "        return add_columns\n",
    "    else:\n",
    "        # Get the latest timestamp from processed data\n",
    "        last_processed_file = add_columns.select(\"ingestion_timestamp\").agg(max(\"ingestion_timestamp\")).collect()[0][0]\n",
    "        print(\"Last processed file timestamp:\", last_processed_file)\n",
    "\n",
    "        # Filter only new data if new data has arrived\n",
    "        if last_processed_file < current_timeStamp():\n",
    "            filter_df = add_columns.filter(add_columns.ingestion_timestamp > last_processed_file)\n",
    "            print(\"New data found. Returning filtered data.\")\n",
    "            return filter_df\n"
   ]
  },
  {
   "cell_type": "code",
   "execution_count": 0,
   "metadata": {
    "application/vnd.databricks.v1+cell": {
     "cellMetadata": {
      "byteLimit": 2048000,
      "rowLimit": 10000
     },
     "inputWidgets": {},
     "nuid": "0ad97ecd-4e0c-4073-ad83-120214254b89",
     "showTitle": false,
     "tableResultSettingsMap": {},
     "title": ""
    }
   },
   "outputs": [],
   "source": [
    "def standardize_column_names(df):\n",
    "    # Define original-to-standard name mapping manually\n",
    "    column_mapping = {\n",
    "        \"VendorID\": \"vendor_id\",\n",
    "        \"tpep_pickup_datetime\": \"pickup_datetime\",\n",
    "        \"tpep_dropoff_datetime\": \"dropoff_datetime\",\n",
    "        \"passenger_count\": \"passenger_count\",\n",
    "        \"trip_distance\": \"trip_distance\",\n",
    "        \"RatecodeID\": \"ratecode_id\",\n",
    "        \"store_and_fwd_flag\": \"store_and_fwd_flag\",\n",
    "        \"PULocationID\": \"pu_location_id\",\n",
    "        \"DOLocationID\": \"do_location_id\",\n",
    "        \"payment_type\": \"payment_type\",\n",
    "        \"fare_amount\": \"fare_amount\",\n",
    "        \"extra\": \"extra\",\n",
    "        \"mta_tax\": \"mta_tax\",\n",
    "        \"tip_amount\": \"tip_amount\",\n",
    "        \"tolls_amount\": \"tolls_amount\",\n",
    "        \"improvement_surcharge\": \"improvement_surcharge\",\n",
    "        \"total_amount\": \"total_amount\",\n",
    "        \"congestion_surcharge\": \"congestion_surcharge\",\n",
    "        \"Airport_fee\": \"airport_fee\",\n",
    "        \"ingestion_timestamp\": \"ingestion_timestamp\"\n",
    "    }\n",
    "    for original_name, standard_name in column_mapping.items():\n",
    "        df = df.withColumnRenamed(original_name, standard_name)\n",
    "    return df\n",
    "    "
   ]
  },
  {
   "cell_type": "code",
   "execution_count": 0,
   "metadata": {
    "application/vnd.databricks.v1+cell": {
     "cellMetadata": {
      "byteLimit": 2048000,
      "rowLimit": 10000
     },
     "inputWidgets": {},
     "nuid": "73addc38-c521-41ea-b340-f7ea8451d642",
     "showTitle": false,
     "tableResultSettingsMap": {},
     "title": ""
    }
   },
   "outputs": [],
   "source": [
    "def standardize_payment_type(df):\n",
    "    df = df.withColumn(\"payment_type\", col(\"payment_type\").cast(StringType()))\n",
    "    df = df.withColumn(\n",
    "        \"payment_type\",\n",
    "        when(col(\"payment_type\") == 1, \"Credit Card\")\n",
    "        .when(col(\"payment_type\") == 2, \"Cash\")\n",
    "        .when(col(\"payment_type\") == 3, \"No Charge\")\n",
    "        .when(col(\"payment_type\") == 4, \"Dispute\")\n",
    "        .when(col(\"payment_type\") == 5, \"Unknown\")\n",
    "        .when(col(\"payment_type\") == 6, \"Voided Trip\")\n",
    "        .otherwise(\"Other\")\n",
    "    )\n",
    "    \n",
    "    return df"
   ]
  },
  {
   "cell_type": "code",
   "execution_count": 0,
   "metadata": {
    "application/vnd.databricks.v1+cell": {
     "cellMetadata": {
      "byteLimit": 2048000,
      "rowLimit": 10000
     },
     "inputWidgets": {},
     "nuid": "0fe30bd8-b4e5-4c76-9bba-27afd5373311",
     "showTitle": false,
     "tableResultSettingsMap": {},
     "title": ""
    }
   },
   "outputs": [],
   "source": [
    "def clean_and_handle_null_values(df):\n",
    "    # Drop rows with nulls in critical columns\n",
    "    critical_columns = [\"pickup_datetime\", \"dropoff_datetime\", \"total_amount\"]\n",
    "\n",
    "    # Count nulls in each critical column and print\n",
    "    for col_name in critical_columns:\n",
    "        null_count = df.filter(df[col_name].isNull()).count()\n",
    "        print(f\"Null count in column '{col_name}': {null_count}\")\n",
    "\n",
    "    df_cleaned = df.dropna(subset=critical_columns)\n",
    "\n",
    "    fill_values = {\n",
    "        \"Airport_fee\": 0.0,\n",
    "        \"congestion_surcharge\": 0.0,\n",
    "        \"tip_amount\": 0.0,\n",
    "        \"tolls_amount\": 0.0,\n",
    "        \"improvement_surcharge\": 0.0,\n",
    "        \"mta_tax\": 0.0,\n",
    "        \"extra\": 0.0,\n",
    "        \"fare_amount\": 0.0\n",
    "    }\n",
    "    df_cleaned = df_cleaned.fillna(fill_values)\n",
    "    \n",
    "    df_cleaned =  df_cleaned.filter(\n",
    "        (col(\"passenger_count\") > 0) &\n",
    "        (col(\"trip_distance\") > 0) &\n",
    "        (col(\"fare_amount\") >= 0) &\n",
    "        (col(\"total_amount\") >= 0)\n",
    "    )\n",
    "    return df_cleaned\n",
    "    "
   ]
  },
  {
   "cell_type": "code",
   "execution_count": 0,
   "metadata": {
    "application/vnd.databricks.v1+cell": {
     "cellMetadata": {
      "byteLimit": 2048000,
      "rowLimit": 10000
     },
     "inputWidgets": {},
     "nuid": "76349ed1-06cf-4f91-bc4c-2e93216d14b4",
     "showTitle": false,
     "tableResultSettingsMap": {},
     "title": ""
    }
   },
   "outputs": [],
   "source": [
    "def remove_duplicates(df):\n",
    "    # Total count before removing duplicates\n",
    "    original_count = df.count()\n",
    "    # Remove duplicate rows\n",
    "    df_deduplicated = df.dropDuplicates()\n",
    "    # Count after removing duplicates\n",
    "    deduplicated_count = df_deduplicated.count()\n",
    "    # Calculate number of duplicate rows\n",
    "    duplicates_removed = original_count - deduplicated_count\n",
    "\n",
    "    print(f\"Original row count: {original_count}\")\n",
    "    print(f\"Row count after removing duplicates: {deduplicated_count}\")\n",
    "    print(f\"Number of duplicate rows removed: {duplicates_removed}\")\n",
    "\n",
    "    return df_deduplicated"
   ]
  },
  {
   "cell_type": "code",
   "execution_count": 0,
   "metadata": {
    "application/vnd.databricks.v1+cell": {
     "cellMetadata": {
      "byteLimit": 2048000,
      "rowLimit": 10000
     },
     "inputWidgets": {},
     "nuid": "c346c20c-9f57-4dc6-87ef-4387085e7849",
     "showTitle": false,
     "tableResultSettingsMap": {},
     "title": ""
    }
   },
   "outputs": [],
   "source": [
    "def write_to_bronze(rep_values, Environment, catalog_name, schema_name, table_name):\n",
    "    # Create full table path using environment, catalog, schema, and table name\n",
    "    full_bronze_path = f\"{Environment}{catalog_name}.{schema_name}.{table_name}\"\n",
    "    print(\"Full table path:\", full_bronze_path)\n",
    "    # Print the full path where data will be saved\n",
    "    print(\"Saving data to table:\", full_bronze_path)\n",
    "\n",
    "    # Write data to Delta table in append mode with mergeSchema option\n",
    "    rep_values.write.mode(\"append\")\\\n",
    "                 .format(\"delta\")\\\n",
    "                 .option(\"mergeSchema\", \"true\")\\\n",
    "                 .saveAsTable(f\"{full_bronze_path}\")\n",
    "\n"
   ]
  },
  {
   "cell_type": "code",
   "execution_count": 0,
   "metadata": {
    "application/vnd.databricks.v1+cell": {
     "cellMetadata": {
      "byteLimit": 2048000,
      "rowLimit": 10000
     },
     "inputWidgets": {},
     "nuid": "da693a71-2339-4264-9395-7af19a3f97e6",
     "showTitle": false,
     "tableResultSettingsMap": {},
     "title": ""
    }
   },
   "outputs": [],
   "source": [
    "# Step 1: Read data from landing zone (Parquet format) using defined schema\n",
    "read_df = read_landingzone_data(landing_path)\n",
    "\n",
    "# Step 2: Rename all columns to standardized names\n",
    "renamed_df = standardize_column_names(read_df)  # corrected variable name\n",
    "\n",
    "# Step 3: Convert numeric payment_type to string values\n",
    "payment_df = standardize_payment_type(renamed_df)  # used renamed_df instead of undefined df\n",
    "\n",
    "# Step 4: Clean null and invalid values from critical columns\n",
    "null_df = clean_and_handle_null_values(payment_df)  # corrected typo in function name\n",
    "\n",
    "# Step 5: Remove duplicate rows and print stats\n",
    "deduped_df = remove_duplicates(null_df)\n",
    "\n",
    "# Step 6: Write the final clean and transformed data to the bronze Delta table\n",
    "write_to_bronze(deduped_df, Environment, catalog_name, schema_name, table_name)\n",
    "\n",
    "# Final message\n",
    "print(\"Landing zone data written to bronze table successfully\")\n"
   ]
  },
  {
   "cell_type": "code",
   "execution_count": 0,
   "metadata": {
    "application/vnd.databricks.v1+cell": {
     "cellMetadata": {
      "byteLimit": 2048000,
      "implicitDf": true,
      "rowLimit": 10000
     },
     "inputWidgets": {},
     "nuid": "a69b6726-2f6c-4c47-9e64-1c26949c7f38",
     "showTitle": false,
     "tableResultSettingsMap": {},
     "title": ""
    }
   },
   "outputs": [],
   "source": [
    "%sql\n",
    "SELECT count(*) \n",
    "FROM dev_nyctaxi_catalog.bronze.bronze_nyc_taxi"
   ]
  },
  {
   "cell_type": "code",
   "execution_count": 0,
   "metadata": {
    "application/vnd.databricks.v1+cell": {
     "cellMetadata": {
      "byteLimit": 2048000,
      "rowLimit": 10000
     },
     "inputWidgets": {},
     "nuid": "a82bad28-f267-4028-8206-67131b80573b",
     "showTitle": false,
     "tableResultSettingsMap": {},
     "title": ""
    }
   },
   "outputs": [],
   "source": [
    "#spark.sql(\"DELETE FROM dev_nyctaxi_catalog.bronze.bronze_nyc_taxi\")"
   ]
  }
 ],
 "metadata": {
  "application/vnd.databricks.v1+notebook": {
   "computePreferences": null,
   "dashboards": [],
   "environmentMetadata": {
    "base_environment": "",
    "environment_version": "2"
   },
   "inputWidgetPreferences": null,
   "language": "python",
   "notebookMetadata": {
    "mostRecentlyExecutedCommandWithImplicitDF": {
     "commandId": 5068483445999958,
     "dataframes": [
      "_sqldf"
     ]
    },
    "pythonIndentUnit": 4
   },
   "notebookName": "01_landing_to_bronze_ingestion",
   "widgets": {
    "CatalogName": {
     "currentValue": "_nyctaxi_catalog",
     "nuid": "63fea562-0d2e-44af-ac30-abe580d0b269",
     "typedWidgetInfo": {
      "autoCreated": false,
      "defaultValue": "_nyctaxi_catalog",
      "label": null,
      "name": "CatalogName",
      "options": {
       "widgetDisplayType": "Text",
       "validationRegex": null
      },
      "parameterDataType": "String"
     },
     "widgetInfo": {
      "widgetType": "text",
      "defaultValue": "_nyctaxi_catalog",
      "label": null,
      "name": "CatalogName",
      "options": {
       "widgetType": "text",
       "autoCreated": null,
       "validationRegex": null
      }
     }
    },
    "Environment": {
     "currentValue": "dev",
     "nuid": "ab244e87-0e9f-44f3-88f3-1ded3e714479",
     "typedWidgetInfo": {
      "autoCreated": false,
      "defaultValue": "",
      "label": null,
      "name": "Environment",
      "options": {
       "widgetDisplayType": "Dropdown",
       "choices": [
        "dev",
        "prod"
       ],
       "fixedDomain": false,
       "multiselect": false
      },
      "parameterDataType": "String"
     },
     "widgetInfo": {
      "widgetType": "combobox",
      "defaultValue": "",
      "label": null,
      "name": "Environment",
      "options": {
       "widgetType": "dropdown",
       "autoCreated": null,
       "choices": [
        "dev",
        "prod"
       ]
      }
     }
    },
    "SchemaName": {
     "currentValue": "bronze",
     "nuid": "80389eba-51fd-4b80-bd3c-61bc8bf24cf7",
     "typedWidgetInfo": {
      "autoCreated": false,
      "defaultValue": "",
      "label": null,
      "name": "SchemaName",
      "options": {
       "widgetDisplayType": "Dropdown",
       "choices": [
        "bronze",
        "silver",
        "gold"
       ],
       "fixedDomain": false,
       "multiselect": false
      },
      "parameterDataType": "String"
     },
     "widgetInfo": {
      "widgetType": "combobox",
      "defaultValue": "",
      "label": null,
      "name": "SchemaName",
      "options": {
       "widgetType": "dropdown",
       "autoCreated": null,
       "choices": [
        "bronze",
        "silver",
        "gold"
       ]
      }
     }
    },
    "StoragePath": {
     "currentValue": "",
     "nuid": "1e0c9ccd-f8af-4912-b1a3-77bd31d739d5",
     "typedWidgetInfo": {
      "autoCreated": false,
      "defaultValue": "",
      "label": null,
      "name": "StoragePath",
      "options": {
       "widgetDisplayType": "Dropdown",
       "choices": [
        "landing_path",
        "bronze_path",
        "silver_path",
        "gold_path"
       ],
       "fixedDomain": false,
       "multiselect": false
      },
      "parameterDataType": "String"
     },
     "widgetInfo": {
      "widgetType": "combobox",
      "defaultValue": "",
      "label": null,
      "name": "StoragePath",
      "options": {
       "widgetType": "dropdown",
       "autoCreated": null,
       "choices": [
        "landing_path",
        "bronze_path",
        "silver_path",
        "gold_path"
       ]
      }
     }
    },
    "Table_name": {
     "currentValue": "bronze_nyc_taxi",
     "nuid": "4e4662b2-0ddc-4e12-9f80-a22ff6599029",
     "typedWidgetInfo": {
      "autoCreated": false,
      "defaultValue": "bronze_nyc_taxi",
      "label": null,
      "name": "Table_name",
      "options": {
       "widgetDisplayType": "Text",
       "validationRegex": null
      },
      "parameterDataType": "String"
     },
     "widgetInfo": {
      "widgetType": "text",
      "defaultValue": "bronze_nyc_taxi",
      "label": null,
      "name": "Table_name",
      "options": {
       "widgetType": "text",
       "autoCreated": null,
       "validationRegex": null
      }
     }
    }
   }
  },
  "language_info": {
   "name": "python"
  }
 },
 "nbformat": 4,
 "nbformat_minor": 0
}
